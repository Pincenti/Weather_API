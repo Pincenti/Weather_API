{
 "cells": [
  {
   "cell_type": "code",
   "execution_count": null,
   "id": "heard-popularity",
   "metadata": {},
   "outputs": [],
   "source": [
    "# OpenweatherMap API\n",
    "\n",
    "# https://openweathermap.org"
   ]
  },
  {
   "cell_type": "code",
   "execution_count": null,
   "id": "likely-arlington",
   "metadata": {},
   "outputs": [],
   "source": [
    "# API/Developer\n",
    "\n",
    "# Sign Up for account\n",
    "\n",
    "# Find Where API key is\n",
    "\n",
    "# Attach the API key to EVERY single API call\n",
    "\n",
    "# Look up API documentation for the current forecast\n",
    "\n",
    "# Find out how to make an API call\n",
    "\n",
    "# Current weather conditions\n",
    "# Today's High Temperature\n",
    "# Current Temperature\n",
    "# Today's Low Temperature\n",
    "# Humidity\n",
    "# City, State"
   ]
  },
  {
   "cell_type": "code",
   "execution_count": 10,
   "id": "48cea11c",
   "metadata": {},
   "outputs": [
    {
     "name": "stdout",
     "output_type": "stream",
     "text": [
      "{'name': 'Chicago', 'current_weather_conditions': 'Clouds', 'todays_high_temperature': 286.48, 'current_temperature': 283.92, 'todays_low_temperature': 281.48, 'humidity': 47}\n",
      "{'name': 'Atlanta', 'current_weather_conditions': 'Clear', 'todays_high_temperature': 294.26, 'current_temperature': 293.75, 'todays_low_temperature': 293.15, 'humidity': 32}\n",
      "{'name': 'Washington', 'current_weather_conditions': 'Clear', 'todays_high_temperature': 294.26, 'current_temperature': 293.13, 'todays_low_temperature': 291.48, 'humidity': 25}\n",
      "{'name': 'San Francisco', 'current_weather_conditions': 'Clouds', 'todays_high_temperature': 290.15, 'current_temperature': 287.45, 'todays_low_temperature': 285.37, 'humidity': 51}\n",
      "{'name': 'Los Angeles', 'current_weather_conditions': 'Clouds', 'todays_high_temperature': 294.26, 'current_temperature': 291.71, 'todays_low_temperature': 289.15, 'humidity': 48}\n"
     ]
    }
   ],
   "source": [
    "import requests\n",
    "\n",
    "data = requests.get(\"https://api.openweathermap.org/data/2.5/weather?q=Chicago&appid=0b1a56dce2e213417c7f6599a1b33689\").json()\n",
    "data2 = requests.get(\"https://api.openweathermap.org/data/2.5/weather?q=Atlanta&appid=0b1a56dce2e213417c7f6599a1b33689\").json()\n",
    "data3 = requests.get(\"https://api.openweathermap.org/data/2.5/weather?q=Washington&appid=0b1a56dce2e213417c7f6599a1b33689\").json()\n",
    "data4 = requests.get(\"https://api.openweathermap.org/data/2.5/weather?q=San Francisco&appid=0b1a56dce2e213417c7f6599a1b33689\").json()\n",
    "data5 = requests.get(\"https://api.openweathermap.org/data/2.5/weather?q=Los Angeles&appid=0b1a56dce2e213417c7f6599a1b33689\").json()\n",
    "\n",
    "chicago_weather_info_dict = {\n",
    "    'name': data['name'],\n",
    "    'current_weather_conditions' : data[\"weather\"][0]['main'],\n",
    "    'todays_high_temperature' : data['main']['temp_max'],\n",
    "    'current_temperature' : data['main']['temp'],\n",
    "    'todays_low_temperature' : data['main']['temp_min'],\n",
    "    'humidity' : data['main']['humidity'],\n",
    "}\n",
    "\n",
    "\n",
    "atlanta_weather_info_dict = {\n",
    "    'name': data2['name'],\n",
    "    'current_weather_conditions' : data2[\"weather\"][0]['main'],\n",
    "    'todays_high_temperature' : data2['main']['temp_max'],\n",
    "    'current_temperature' : data2['main']['temp'],\n",
    "    'todays_low_temperature' : data2['main']['temp_min'],\n",
    "    'humidity' : data2['main']['humidity'],\n",
    "}\n",
    "\n",
    "\n",
    "\n",
    "washington_weather_info_dict = {\n",
    "    'name': data3['name'],\n",
    "    'current_weather_conditions' : data3[\"weather\"][0]['main'],\n",
    "    'todays_high_temperature' : data3['main']['temp_max'],\n",
    "    'current_temperature' : data3['main']['temp'],\n",
    "    'todays_low_temperature' : data3['main']['temp_min'],\n",
    "    'humidity' : data3['main']['humidity'],\n",
    "}\n",
    "\n",
    "san_fransico_weather_info_dict = {\n",
    "    'name': data4['name'],\n",
    "    'current_weather_conditions' : data4[\"weather\"][0]['main'],\n",
    "    'todays_high_temperature' : data4['main']['temp_max'],\n",
    "    'current_temperature' : data4['main']['temp'],\n",
    "    'todays_low_temperature' : data4['main']['temp_min'],\n",
    "    'humidity' : data4['main']['humidity'],\n",
    "}\n",
    "\n",
    "los_angeles_weather_info_dict = {\n",
    "    'name': data5['name'],\n",
    "    'current_weather_conditions' : data5[\"weather\"][0]['main'],\n",
    "    'todays_high_temperature' : data5['main']['temp_max'],\n",
    "    'current_temperature' : data5['main']['temp'],\n",
    "    'todays_low_temperature' : data5['main']['temp_min'],\n",
    "    'humidity' : data5['main']['humidity'],\n",
    "}\n",
    "\n",
    "\n",
    "\n",
    "\n",
    "def weather(display):\n",
    "    print (display)\n",
    "\n",
    "\n",
    "\n",
    "weather(chicago_weather_info_dict)\n",
    "weather(atlanta_weather_info_dict)\n",
    "weather(washington_weather_info_dict)\n",
    "weather(san_fransico_weather_info_dict)\n",
    "weather(los_angeles_weather_info_dict)"
   ]
  },
  {
   "cell_type": "code",
   "execution_count": null,
   "id": "622c6cdb",
   "metadata": {},
   "outputs": [],
   "source": []
  },
  {
   "cell_type": "code",
   "execution_count": null,
   "id": "b318e04d",
   "metadata": {},
   "outputs": [],
   "source": []
  }
 ],
 "metadata": {
  "kernelspec": {
   "display_name": "Python 3",
   "language": "python",
   "name": "python3"
  },
  "language_info": {
   "codemirror_mode": {
    "name": "ipython",
    "version": 3
   },
   "file_extension": ".py",
   "mimetype": "text/x-python",
   "name": "python",
   "nbconvert_exporter": "python",
   "pygments_lexer": "ipython3",
   "version": "3.9.2"
  }
 },
 "nbformat": 4,
 "nbformat_minor": 5
}
